{
  "cells": [
    {
      "cell_type": "markdown",
      "metadata": {
        "id": "srXC6pLGLwS6"
      },
      "source": [
        "## Setup"
      ]
    },
    {
      "cell_type": "code",
      "execution_count": 23,
      "metadata": {
        "id": "yG_n40gFzf9s"
      },
      "outputs": [],
      "source": [
        "import tensorflow as tf\n",
        "\n",
        "import numpy as np\n",
        "import os\n",
        "import time\n",
        "import random"
      ]
    },
    {
      "cell_type": "code",
      "execution_count": null,
      "metadata": {},
      "outputs": [],
      "source": [
        "CONFIG = {\n",
        "    # Data processing\n",
        "    \"SEED\": 42,                     # Random seed for reproducibility\n",
        "    \"TRAIN_SPLIT\": 0.8,             # Percentage of data for training\n",
        "    \"VAL_SPLIT\": 0.1,              # Percentage of data for validation\n",
        "    \"TEST_SPLIT\": 0.1,             # Percentage of data for testing\n",
        "    \"SEQ_LENGTH\": 100,              # Sequence length for training examples\n",
        "    \n",
        "    # Model architecture\n",
        "    \"EMBEDDING_DIM\": 256,           # Dimension of the embedding layer\n",
        "    \"RNN_UNITS\": 1024,              # Number of units in the RNN layer\n",
        "    \n",
        "    # Training parameters\n",
        "    \"BATCH_SIZE\": 64,               # Batch size for training\n",
        "    \"BUFFER_SIZE\": 10000,           # Buffer size for shuffling\n",
        "    \"EPOCHS\": 20,                   # Number of epochs for training\n",
        "    \"OPTIMIZER\": \"adam\",            # Optimizer for training\n",
        "    \"EARLY_STOPPING_PATIENCE\": 5,   # Patience for early stopping\n",
        "    \"MONITOR_METRIC\": \"val_loss\",   # Metric to monitor for early stopping\n",
        "    \"RESTORE_BEST_WEIGHTS\": True,   # Whether to restore best weights after training\n",
        "    \n",
        "    # Text generation\n",
        "    \"TEMPERATURE\": 1.0,             # Temperature for text generation\n",
        "    \"GENERATION_LENGTH\": 1000       # Length of generated text\n",
        "}"
      ]
    },
    {
      "cell_type": "code",
      "execution_count": 25,
      "metadata": {},
      "outputs": [
        {
          "name": "stdout",
          "output_type": "stream",
          "text": [
            "Seeds set to 42 for reproducibility\n"
          ]
        }
      ],
      "source": [
        "# Set seeds for reproducibility\n",
        "def set_seeds(seed=42):\n",
        "    \"\"\"Set seeds for reproducibility.\"\"\"\n",
        "    # Set seed for Python's random module\n",
        "    random.seed(seed)\n",
        "    \n",
        "    # Set seed for NumPy\n",
        "    np.random.seed(seed)\n",
        "    \n",
        "    # Set seed for TensorFlow\n",
        "    tf.random.set_seed(seed)\n",
        "    \n",
        "    # Try to make operations deterministic (TF 2.8+)\n",
        "    try:\n",
        "        tf.config.experimental.enable_op_determinism()\n",
        "    except:\n",
        "        # For older TensorFlow versions\n",
        "        print(\"Warning: Op determinism not available in your TF version. Results may still vary.\")\n",
        "        # Set as many deterministic settings as possible\n",
        "        os.environ['TF_DETERMINISTIC_OPS'] = '1'\n",
        "        \n",
        "    print(f\"Seeds set to {seed} for reproducibility\")\n",
        "\n",
        "set_seeds(CONFIG[\"SEED\"])"
      ]
    },
    {
      "cell_type": "markdown",
      "metadata": {
        "id": "EHDoRoc5PKWz"
      },
      "source": [
        "### Download the Shakespeare dataset"
      ]
    },
    {
      "cell_type": "code",
      "execution_count": 26,
      "metadata": {
        "id": "pD_55cOxLkAb"
      },
      "outputs": [
        {
          "name": "stdout",
          "output_type": "stream",
          "text": [
            "Downloading Romeo and Juliet text...\n",
            "Download completed successfully.\n"
          ]
        }
      ],
      "source": [
        "import requests\n",
        "\n",
        "# URL of the dataset\n",
        "url = \"https://www.gutenberg.org/cache/epub/1513/pg1513.txt\"\n",
        "\n",
        "# Download the file\n",
        "print(\"Downloading Romeo and Juliet text...\")\n",
        "response = requests.get(url)\n",
        "if response.status_code == 200:\n",
        "  if not os.path.exists('./dataset'):\n",
        "    os.makedirs('./dataset')\n",
        "\n",
        "  path_to_file = \"./dataset/romeo_and_juliet.txt\"\n",
        "  with open(path_to_file, 'wb') as f:\n",
        "    f.write(response.content)\n",
        "  print(\"Download completed successfully.\")\n",
        "else:\n",
        "  raise Exception(f\"Failed to download file. Status code: {response.status_code}\")"
      ]
    },
    {
      "cell_type": "markdown",
      "metadata": {
        "id": "UHjdCjDuSvX_"
      },
      "source": [
        "### Read the data\n",
        "\n",
        "First, look in the text:"
      ]
    },
    {
      "cell_type": "code",
      "execution_count": 27,
      "metadata": {
        "id": "aavnuByVymwK"
      },
      "outputs": [
        {
          "name": "stdout",
          "output_type": "stream",
          "text": [
            "Length of text: 167424 characters\n"
          ]
        }
      ],
      "source": [
        "# Read, then decode for py2 compat.\n",
        "text = open(path_to_file, 'rb').read().decode(encoding='utf-8')\n",
        "# length of text is the number of characters in it\n",
        "print(f'Length of text: {len(text)} characters')"
      ]
    },
    {
      "cell_type": "code",
      "execution_count": 28,
      "metadata": {},
      "outputs": [
        {
          "name": "stdout",
          "output_type": "stream",
          "text": [
            "Original text length: 167424 characters\n",
            "Processed text length: 147650 characters\n",
            "Removed 19774 characters of metadata\n"
          ]
        }
      ],
      "source": [
        "def preprocess_romeo_and_juliet(text):\n",
        "    \"\"\"\n",
        "    Extract only the actual play content from the Romeo and Juliet text,\n",
        "    removing Project Gutenberg header, footer, and metadata.\n",
        "    \"\"\"\n",
        "    # Find the beginning of the actual play\n",
        "    start_marker = \"THE PROLOGUE\"\n",
        "    end_marker = \"*** END OF THE PROJECT GUTENBERG EBOOK\"\n",
        "    \n",
        "    start_index = text.find(start_marker)\n",
        "    end_index = text.find(end_marker)\n",
        "    \n",
        "    if start_index == -1 or end_index == -1:\n",
        "        print(\"Warning: Could not find start or end markers in the text\")\n",
        "        return text\n",
        "    \n",
        "    # Extract just the play content\n",
        "    play_text = text[start_index:end_index].strip()\n",
        "    \n",
        "    print(f\"Original text length: {len(text)} characters\")\n",
        "    print(f\"Processed text length: {len(play_text)} characters\")\n",
        "    print(f\"Removed {len(text) - len(play_text)} characters of metadata\")\n",
        "    \n",
        "    return play_text\n",
        "\n",
        "# Apply preprocessing to remove header and footer\n",
        "text = preprocess_romeo_and_juliet(text)"
      ]
    },
    {
      "cell_type": "code",
      "execution_count": 29,
      "metadata": {
        "id": "Duhg9NrUymwO"
      },
      "outputs": [
        {
          "name": "stdout",
          "output_type": "stream",
          "text": [
            "First 250 characters of the processed text:\n",
            "THE PROLOGUE.\n",
            "\n",
            "ACT I\n",
            "Scene I. A public place.\n",
            "Scene II. A Street.\n",
            "Scene III. Room in Capulet’s House.\n",
            "Scene IV. A Street.\n",
            "Scene V. A Hall in Capulet’s House.\n",
            "\n",
            "ACT II\n",
            "CHORUS.\n",
            "Scene I. An open place adjoining Capulet’s Garden.\n",
            "Scene II. Cap\n",
            "\n",
            "Last 250 characters of the processed text:\n",
            "s morning with it brings;\n",
            "The sun for sorrow will not show his head.\n",
            "Go hence, to have more talk of these sad things.\n",
            "Some shall be pardon’d, and some punished,\n",
            "For never was a story of more woe\n",
            "Than this of Juliet and her Romeo.\n",
            "\n",
            " [_Exeunt._]\n"
          ]
        }
      ],
      "source": [
        "\n",
        "# Take a look at the beginning and end of the processed text\n",
        "print(\"First 250 characters of the processed text:\")\n",
        "print(text[:250])\n",
        "\n",
        "print(\"\\nLast 250 characters of the processed text:\")\n",
        "print(text[-250:])"
      ]
    },
    {
      "cell_type": "code",
      "execution_count": 30,
      "metadata": {
        "id": "IlCgQBRVymwR"
      },
      "outputs": [
        {
          "name": "stdout",
          "output_type": "stream",
          "text": [
            "71 unique characters\n"
          ]
        }
      ],
      "source": [
        "# The unique characters in the file\n",
        "vocab = sorted(set(text))\n",
        "print(f'{len(vocab)} unique characters')"
      ]
    },
    {
      "cell_type": "markdown",
      "metadata": {
        "id": "rNnrKn_lL-IJ"
      },
      "source": [
        "## Process the text"
      ]
    },
    {
      "cell_type": "markdown",
      "metadata": {
        "id": "LFjSVAlWzf-N"
      },
      "source": [
        "### Vectorize the text"
      ]
    },
    {
      "cell_type": "markdown",
      "metadata": {},
      "source": [
        "This converts from tokens to character IDs:"
      ]
    },
    {
      "cell_type": "code",
      "execution_count": 31,
      "metadata": {
        "id": "6GMlCe3qzaL9"
      },
      "outputs": [],
      "source": [
        "ids_from_chars = tf.keras.layers.StringLookup(\n",
        "    vocabulary=list(vocab), mask_token=None)"
      ]
    },
    {
      "cell_type": "markdown",
      "metadata": {},
      "source": [
        "This recovers the characters from the vectors of IDs, and returns them as a `tf.RaggedTensor` of characters:"
      ]
    },
    {
      "cell_type": "code",
      "execution_count": 32,
      "metadata": {
        "id": "Wd2m3mqkDjRj"
      },
      "outputs": [],
      "source": [
        "chars_from_ids = tf.keras.layers.StringLookup(\n",
        "    vocabulary=ids_from_chars.get_vocabulary(), invert=True, mask_token=None)"
      ]
    },
    {
      "cell_type": "markdown",
      "metadata": {
        "id": "-FeW5gqutT3o"
      },
      "source": [
        "Can use `tf.strings.reduce_join` to join the characters back into strings. "
      ]
    },
    {
      "cell_type": "code",
      "execution_count": 33,
      "metadata": {
        "id": "w5apvBDn9Ind"
      },
      "outputs": [],
      "source": [
        "def text_from_ids(ids):\n",
        "  return tf.strings.reduce_join(chars_from_ids(ids), axis=-1)"
      ]
    },
    {
      "cell_type": "markdown",
      "metadata": {
        "id": "hgsVvVxnymwf"
      },
      "source": [
        "### Create training examples and targets\n",
        "\n",
        "For each input sequence, the corresponding targets contain the same length of text, except shifted one character to the right. So break the text into chunks of `seq_length+1`\n",
        "\n",
        "Example with \"Tensorflow\":\n",
        "The string \"Tensorflow\" is split into:\n",
        "\n",
        "Input: All characters except the last one.\n",
        "Target: All characters except the first one.\n",
        "Step-by-Step Breakdown:\n",
        "Original Sequence: \"Tensorflow\"\n",
        "\n",
        "Characters: ['T', 'e', 'n', 's', 'o', 'r', 'f', 'l', 'o', 'w']\n",
        "Input Sequence:\n",
        "\n",
        "Take all characters except the last one: ['T', 'e', 'n', 's', 'o', 'r', 'f', 'l', 'o']\n",
        "Target Sequence:\n",
        "\n",
        "Take all characters except the first one: ['e', 'n', 's', 'o', 'r', 'f', 'l', 'o', 'w']\n",
        "\n",
        "Each character in the Input corresponds to the Target character at the next position:\n",
        "\n",
        "```\n",
        "'T' → 'e'\n",
        "'e' → 'n'\n",
        "'n' → 's'\n",
        "'s' → 'o'\n",
        "'o' → 'r'\n",
        "'r' → 'f'\n",
        "'f' → 'l'\n",
        "'l' → 'o'\n",
        "'o' → 'w'\n",
        "```"
      ]
    },
    {
      "cell_type": "code",
      "execution_count": 34,
      "metadata": {
        "id": "UopbsKi88tm5"
      },
      "outputs": [
        {
          "data": {
            "text/plain": [
              "<tf.Tensor: shape=(147650,), dtype=int64, numpy=array([31, 19, 16, ...,  8, 39, 38])>"
            ]
          },
          "execution_count": 34,
          "metadata": {},
          "output_type": "execute_result"
        }
      ],
      "source": [
        "all_ids = ids_from_chars(tf.strings.unicode_split(text, 'UTF-8'))\n",
        "all_ids"
      ]
    },
    {
      "cell_type": "code",
      "execution_count": 35,
      "metadata": {
        "id": "qmxrYDCTy-eL"
      },
      "outputs": [],
      "source": [
        "# Create a 70/15/15 train/validation/test split\n",
        "total_chars = len(all_ids)\n",
        "train_chars = int(CONFIG[\"TRAIN_SPLIT\"] * total_chars)\n",
        "val_chars = int(CONFIG[\"VAL_SPLIT\"] * total_chars)\n",
        "\n",
        "# Split the data\n",
        "train_ids = all_ids[:train_chars]\n",
        "val_ids = all_ids[train_chars:train_chars+val_chars]\n",
        "test_ids = all_ids[train_chars+val_chars:]\n",
        "\n",
        "# Create separate datasets\n",
        "train_ids_dataset = tf.data.Dataset.from_tensor_slices(train_ids)\n",
        "val_ids_dataset = tf.data.Dataset.from_tensor_slices(val_ids)\n",
        "test_ids_dataset = tf.data.Dataset.from_tensor_slices(test_ids)"
      ]
    },
    {
      "cell_type": "markdown",
      "metadata": {
        "id": "-ZSYAcQV8OGP"
      },
      "source": [
        "The `batch` method lets you easily convert these individual characters to sequences of the desired size."
      ]
    },
    {
      "cell_type": "code",
      "execution_count": 36,
      "metadata": {
        "id": "BpdjRO2CzOfZ"
      },
      "outputs": [],
      "source": [
        "# Create sequences for each dataset\n",
        "train_sequences = train_ids_dataset.batch(CONFIG[\"SEQ_LENGTH\"]+1, drop_remainder=True)\n",
        "val_sequences = val_ids_dataset.batch(CONFIG[\"SEQ_LENGTH\"]+1, drop_remainder=True)\n",
        "test_sequences = test_ids_dataset.batch(CONFIG[\"SEQ_LENGTH\"]+1, drop_remainder=True)"
      ]
    },
    {
      "cell_type": "markdown",
      "metadata": {
        "id": "5PHW902-4oZt"
      },
      "source": [
        "It's easier to see what this is doing if you join the tokens back into strings:"
      ]
    },
    {
      "cell_type": "code",
      "execution_count": 37,
      "metadata": {
        "id": "QO32cMWu4a06"
      },
      "outputs": [
        {
          "name": "stdout",
          "output_type": "stream",
          "text": [
            "b'THE PROLOGUE.\\r\\n\\r\\nACT I\\r\\nScene I. A public place.\\r\\nScene II. A Street.\\r\\nScene III. Room in Capulet\\xe2\\x80\\x99s H'\n",
            "b'ouse.\\r\\nScene IV. A Street.\\r\\nScene V. A Hall in Capulet\\xe2\\x80\\x99s House.\\r\\n\\r\\nACT II\\r\\nCHORUS.\\r\\nScene I. An open '\n",
            "b'place adjoining Capulet\\xe2\\x80\\x99s Garden.\\r\\nScene II. Capulet\\xe2\\x80\\x99s Garden.\\r\\nScene III. Friar Lawrence\\xe2\\x80\\x99s Cell.\\r\\nSc'\n",
            "b'ene IV. A Street.\\r\\nScene V. Capulet\\xe2\\x80\\x99s Garden.\\r\\nScene VI. Friar Lawrence\\xe2\\x80\\x99s Cell.\\r\\n\\r\\nACT III\\r\\nScene I. '\n",
            "b'A public Place.\\r\\nScene II. A Room in Capulet\\xe2\\x80\\x99s House.\\r\\nScene III. Friar Lawrence\\xe2\\x80\\x99s cell.\\r\\nScene IV. A'\n"
          ]
        }
      ],
      "source": [
        "for seq in train_sequences.take(5):\n",
        "  print(text_from_ids(seq).numpy())"
      ]
    },
    {
      "cell_type": "markdown",
      "metadata": {
        "id": "UbLcIPBj_mWZ"
      },
      "source": [
        "For training you'll need a dataset of `(input, label)` pairs. Where `input` and \n",
        "`label` are sequences. At each time step the input is the current character and the label is the next character. \n",
        "\n",
        "Here's a function that takes a sequence as input, duplicates, and shifts it to align the input and label for each timestep:"
      ]
    },
    {
      "cell_type": "code",
      "execution_count": 38,
      "metadata": {
        "id": "9NGu-FkO_kYU"
      },
      "outputs": [],
      "source": [
        "def split_input_target(sequence):\n",
        "    input_text = sequence[:-1]\n",
        "    target_text = sequence[1:]\n",
        "    return input_text, target_text"
      ]
    },
    {
      "cell_type": "code",
      "execution_count": 39,
      "metadata": {
        "id": "B9iKPXkw5xwa"
      },
      "outputs": [
        {
          "name": "stdout",
          "output_type": "stream",
          "text": [
            "Input : b'THE PROLOGUE.\\r\\n\\r\\nACT I\\r\\nScene I. A public place.\\r\\nScene II. A Street.\\r\\nScene III. Room in Capulet\\xe2\\x80\\x99s '\n",
            "Target: b'HE PROLOGUE.\\r\\n\\r\\nACT I\\r\\nScene I. A public place.\\r\\nScene II. A Street.\\r\\nScene III. Room in Capulet\\xe2\\x80\\x99s H'\n"
          ]
        },
        {
          "name": "stderr",
          "output_type": "stream",
          "text": [
            "2025-04-22 19:49:53.369717: I tensorflow/core/framework/local_rendezvous.cc:407] Local rendezvous is aborting with status: OUT_OF_RANGE: End of sequence\n"
          ]
        }
      ],
      "source": [
        "# Convert sequences to input-target pairs\n",
        "train_dataset = train_sequences.map(split_input_target)\n",
        "val_dataset = val_sequences.map(split_input_target)\n",
        "test_dataset = test_sequences.map(split_input_target)\n",
        "\n",
        "# Check a sample\n",
        "for input_example, target_example in train_dataset.take(1):\n",
        "    print(\"Input :\", text_from_ids(input_example).numpy())\n",
        "    print(\"Target:\", text_from_ids(target_example).numpy())"
      ]
    },
    {
      "cell_type": "markdown",
      "metadata": {
        "id": "MJdfPmdqzf-R"
      },
      "source": [
        "### Create training batches\n",
        "\n",
        "You used `tf.data` to split the text into manageable sequences. But before feeding this data into the model, you need to shuffle the data and pack it into batches."
      ]
    },
    {
      "cell_type": "code",
      "execution_count": 40,
      "metadata": {
        "id": "p2pGotuNzf-S"
      },
      "outputs": [
        {
          "name": "stdout",
          "output_type": "stream",
          "text": [
            "Training dataset: <_PrefetchDataset element_spec=(TensorSpec(shape=(64, 100), dtype=tf.int64, name=None), TensorSpec(shape=(64, 100), dtype=tf.int64, name=None))>\n",
            "Validation dataset: <_PrefetchDataset element_spec=(TensorSpec(shape=(64, 100), dtype=tf.int64, name=None), TensorSpec(shape=(64, 100), dtype=tf.int64, name=None))>\n",
            "Test dataset: <_PrefetchDataset element_spec=(TensorSpec(shape=(64, 100), dtype=tf.int64, name=None), TensorSpec(shape=(64, 100), dtype=tf.int64, name=None))>\n"
          ]
        }
      ],
      "source": [
        "# Batch size\n",
        "BATCH_SIZE = 64\n",
        "\n",
        "# Buffer size to shuffle the dataset\n",
        "# (TF data is designed to work with possibly infinite sequences,\n",
        "# so it doesn't attempt to shuffle the entire sequence in memory. Instead,\n",
        "# it maintains a buffer in which it shuffles elements).\n",
        "BUFFER_SIZE = 10000\n",
        "\n",
        "# Apply batching to all datasets\n",
        "train_dataset = (\n",
        "    train_dataset\n",
        "    .shuffle(CONFIG[\"BUFFER_SIZE\"])\n",
        "    .batch(CONFIG[\"BATCH_SIZE\"], drop_remainder=True)\n",
        "    .prefetch(tf.data.experimental.AUTOTUNE))\n",
        "\n",
        "# For validation and test, we don't need to shuffle\n",
        "val_dataset = (\n",
        "    val_dataset\n",
        "    .batch(CONFIG[\"BATCH_SIZE\"], drop_remainder=True)\n",
        "    .prefetch(tf.data.experimental.AUTOTUNE))\n",
        "\n",
        "test_dataset = (\n",
        "    test_dataset\n",
        "    .batch(CONFIG[\"BATCH_SIZE\"], drop_remainder=True)\n",
        "    .prefetch(tf.data.experimental.AUTOTUNE))\n",
        "\n",
        "print(\"Training dataset:\", train_dataset)\n",
        "print(\"Validation dataset:\", val_dataset)\n",
        "print(\"Test dataset:\", test_dataset)"
      ]
    },
    {
      "cell_type": "markdown",
      "metadata": {
        "id": "r6oUuElIMgVx"
      },
      "source": [
        "## Build The Model"
      ]
    },
    {
      "cell_type": "code",
      "execution_count": 41,
      "metadata": {
        "id": "zHT8cLh7EAsg"
      },
      "outputs": [],
      "source": [
        "# Length of the vocabulary in StringLookup Layer\n",
        "vocab_size = len(ids_from_chars.get_vocabulary())"
      ]
    },
    {
      "cell_type": "code",
      "execution_count": 42,
      "metadata": {
        "id": "wj8HQ2w8z4iO"
      },
      "outputs": [],
      "source": [
        "class MyModel(tf.keras.Model):\n",
        "  def __init__(self, vocab_size, embedding_dim, rnn_units):\n",
        "    super().__init__()\n",
        "    self.embedding = tf.keras.layers.Embedding(vocab_size, embedding_dim)\n",
        "    self.rnn = tf.keras.layers.Bidirectional(\n",
        "        tf.keras.layers.LSTM(rnn_units//2,  # Half the units for each direction\n",
        "                          return_sequences=True,\n",
        "                          return_state=True)\n",
        "    )\n",
        "    self.dense = tf.keras.layers.Dense(vocab_size)\n",
        "\n",
        "  def call(self, inputs, states=None, return_state=False, training=False):\n",
        "    x = inputs\n",
        "    x = self.embedding(x, training=training)\n",
        "    \n",
        "    # Get batch size from input tensor\n",
        "    batch_size = tf.shape(x)[0]\n",
        "    \n",
        "    if states is None:\n",
        "      # Initialize states for both forward and backward LSTMs\n",
        "      forward_h = tf.zeros([batch_size, self.rnn.forward_layer.units])\n",
        "      forward_c = tf.zeros([batch_size, self.rnn.forward_layer.units])\n",
        "      backward_h = tf.zeros([batch_size, self.rnn.backward_layer.units])\n",
        "      backward_c = tf.zeros([batch_size, self.rnn.backward_layer.units])\n",
        "      states = [forward_h, forward_c, backward_h, backward_c]\n",
        "    \n",
        "    # Unpack the states\n",
        "    forward_states = states[:2]\n",
        "    backward_states = states[2:]\n",
        "    \n",
        "    # Run the bidirectional LSTM\n",
        "    x, forward_h, forward_c, backward_h, backward_c = self.rnn(\n",
        "        x, initial_state=forward_states + backward_states, training=training\n",
        "    )\n",
        "    \n",
        "    # Apply dense layer to the concatenated outputs\n",
        "    x = self.dense(x, training=training)\n",
        "\n",
        "    if return_state:\n",
        "      return x, [forward_h, forward_c, backward_h, backward_c]\n",
        "    else:\n",
        "      return x"
      ]
    },
    {
      "cell_type": "code",
      "execution_count": 43,
      "metadata": {
        "id": "IX58Xj9z47Aw"
      },
      "outputs": [],
      "source": [
        "model = MyModel(\n",
        "    vocab_size=vocab_size,\n",
        "    embedding_dim=CONFIG[\"EMBEDDING_DIM\"],\n",
        "    rnn_units=CONFIG[\"RNN_UNITS\"])"
      ]
    },
    {
      "cell_type": "code",
      "execution_count": 44,
      "metadata": {
        "id": "vPGmAAXmVLGC"
      },
      "outputs": [
        {
          "data": {
            "text/html": [
              "<pre style=\"white-space:pre;overflow-x:auto;line-height:normal;font-family:Menlo,'DejaVu Sans Mono',consolas,'Courier New',monospace\"><span style=\"font-weight: bold\">Model: \"my_model_1\"</span>\n",
              "</pre>\n"
            ],
            "text/plain": [
              "\u001b[1mModel: \"my_model_1\"\u001b[0m\n"
            ]
          },
          "metadata": {},
          "output_type": "display_data"
        },
        {
          "data": {
            "text/html": [
              "<pre style=\"white-space:pre;overflow-x:auto;line-height:normal;font-family:Menlo,'DejaVu Sans Mono',consolas,'Courier New',monospace\">┏━━━━━━━━━━━━━━━━━━━━━━━━━━━━━━━━━┳━━━━━━━━━━━━━━━━━━━━━━━━┳━━━━━━━━━━━━━━━┓\n",
              "┃<span style=\"font-weight: bold\"> Layer (type)                    </span>┃<span style=\"font-weight: bold\"> Output Shape           </span>┃<span style=\"font-weight: bold\">       Param # </span>┃\n",
              "┡━━━━━━━━━━━━━━━━━━━━━━━━━━━━━━━━━╇━━━━━━━━━━━━━━━━━━━━━━━━╇━━━━━━━━━━━━━━━┩\n",
              "│ embedding_1 (<span style=\"color: #0087ff; text-decoration-color: #0087ff\">Embedding</span>)         │ (<span style=\"color: #00af00; text-decoration-color: #00af00\">1</span>, <span style=\"color: #00af00; text-decoration-color: #00af00\">100</span>, <span style=\"color: #00af00; text-decoration-color: #00af00\">256</span>)          │        <span style=\"color: #00af00; text-decoration-color: #00af00\">18,432</span> │\n",
              "├─────────────────────────────────┼────────────────────────┼───────────────┤\n",
              "│ bidirectional_1 (<span style=\"color: #0087ff; text-decoration-color: #0087ff\">Bidirectional</span>) │ ((<span style=\"color: #00af00; text-decoration-color: #00af00\">1</span>, <span style=\"color: #00af00; text-decoration-color: #00af00\">100</span>, <span style=\"color: #00af00; text-decoration-color: #00af00\">1024</span>), (<span style=\"color: #00af00; text-decoration-color: #00af00\">1</span>,   │     <span style=\"color: #00af00; text-decoration-color: #00af00\">3,149,824</span> │\n",
              "│                                 │ <span style=\"color: #00af00; text-decoration-color: #00af00\">512</span>), (<span style=\"color: #00af00; text-decoration-color: #00af00\">1</span>, <span style=\"color: #00af00; text-decoration-color: #00af00\">512</span>), (<span style=\"color: #00af00; text-decoration-color: #00af00\">1</span>,    │               │\n",
              "│                                 │ <span style=\"color: #00af00; text-decoration-color: #00af00\">512</span>), (<span style=\"color: #00af00; text-decoration-color: #00af00\">1</span>, <span style=\"color: #00af00; text-decoration-color: #00af00\">512</span>))        │               │\n",
              "├─────────────────────────────────┼────────────────────────┼───────────────┤\n",
              "│ dense_1 (<span style=\"color: #0087ff; text-decoration-color: #0087ff\">Dense</span>)                 │ (<span style=\"color: #00af00; text-decoration-color: #00af00\">1</span>, <span style=\"color: #00af00; text-decoration-color: #00af00\">100</span>, <span style=\"color: #00af00; text-decoration-color: #00af00\">72</span>)           │        <span style=\"color: #00af00; text-decoration-color: #00af00\">73,800</span> │\n",
              "└─────────────────────────────────┴────────────────────────┴───────────────┘\n",
              "</pre>\n"
            ],
            "text/plain": [
              "┏━━━━━━━━━━━━━━━━━━━━━━━━━━━━━━━━━┳━━━━━━━━━━━━━━━━━━━━━━━━┳━━━━━━━━━━━━━━━┓\n",
              "┃\u001b[1m \u001b[0m\u001b[1mLayer (type)                   \u001b[0m\u001b[1m \u001b[0m┃\u001b[1m \u001b[0m\u001b[1mOutput Shape          \u001b[0m\u001b[1m \u001b[0m┃\u001b[1m \u001b[0m\u001b[1m      Param #\u001b[0m\u001b[1m \u001b[0m┃\n",
              "┡━━━━━━━━━━━━━━━━━━━━━━━━━━━━━━━━━╇━━━━━━━━━━━━━━━━━━━━━━━━╇━━━━━━━━━━━━━━━┩\n",
              "│ embedding_1 (\u001b[38;5;33mEmbedding\u001b[0m)         │ (\u001b[38;5;34m1\u001b[0m, \u001b[38;5;34m100\u001b[0m, \u001b[38;5;34m256\u001b[0m)          │        \u001b[38;5;34m18,432\u001b[0m │\n",
              "├─────────────────────────────────┼────────────────────────┼───────────────┤\n",
              "│ bidirectional_1 (\u001b[38;5;33mBidirectional\u001b[0m) │ ((\u001b[38;5;34m1\u001b[0m, \u001b[38;5;34m100\u001b[0m, \u001b[38;5;34m1024\u001b[0m), (\u001b[38;5;34m1\u001b[0m,   │     \u001b[38;5;34m3,149,824\u001b[0m │\n",
              "│                                 │ \u001b[38;5;34m512\u001b[0m), (\u001b[38;5;34m1\u001b[0m, \u001b[38;5;34m512\u001b[0m), (\u001b[38;5;34m1\u001b[0m,    │               │\n",
              "│                                 │ \u001b[38;5;34m512\u001b[0m), (\u001b[38;5;34m1\u001b[0m, \u001b[38;5;34m512\u001b[0m))        │               │\n",
              "├─────────────────────────────────┼────────────────────────┼───────────────┤\n",
              "│ dense_1 (\u001b[38;5;33mDense\u001b[0m)                 │ (\u001b[38;5;34m1\u001b[0m, \u001b[38;5;34m100\u001b[0m, \u001b[38;5;34m72\u001b[0m)           │        \u001b[38;5;34m73,800\u001b[0m │\n",
              "└─────────────────────────────────┴────────────────────────┴───────────────┘\n"
            ]
          },
          "metadata": {},
          "output_type": "display_data"
        },
        {
          "data": {
            "text/html": [
              "<pre style=\"white-space:pre;overflow-x:auto;line-height:normal;font-family:Menlo,'DejaVu Sans Mono',consolas,'Courier New',monospace\"><span style=\"font-weight: bold\"> Total params: </span><span style=\"color: #00af00; text-decoration-color: #00af00\">3,242,056</span> (12.37 MB)\n",
              "</pre>\n"
            ],
            "text/plain": [
              "\u001b[1m Total params: \u001b[0m\u001b[38;5;34m3,242,056\u001b[0m (12.37 MB)\n"
            ]
          },
          "metadata": {},
          "output_type": "display_data"
        },
        {
          "data": {
            "text/html": [
              "<pre style=\"white-space:pre;overflow-x:auto;line-height:normal;font-family:Menlo,'DejaVu Sans Mono',consolas,'Courier New',monospace\"><span style=\"font-weight: bold\"> Trainable params: </span><span style=\"color: #00af00; text-decoration-color: #00af00\">3,242,056</span> (12.37 MB)\n",
              "</pre>\n"
            ],
            "text/plain": [
              "\u001b[1m Trainable params: \u001b[0m\u001b[38;5;34m3,242,056\u001b[0m (12.37 MB)\n"
            ]
          },
          "metadata": {},
          "output_type": "display_data"
        },
        {
          "data": {
            "text/html": [
              "<pre style=\"white-space:pre;overflow-x:auto;line-height:normal;font-family:Menlo,'DejaVu Sans Mono',consolas,'Courier New',monospace\"><span style=\"font-weight: bold\"> Non-trainable params: </span><span style=\"color: #00af00; text-decoration-color: #00af00\">0</span> (0.00 B)\n",
              "</pre>\n"
            ],
            "text/plain": [
              "\u001b[1m Non-trainable params: \u001b[0m\u001b[38;5;34m0\u001b[0m (0.00 B)\n"
            ]
          },
          "metadata": {},
          "output_type": "display_data"
        }
      ],
      "source": [
        "# Create a dummy input with the right shape\n",
        "# So that the custom class model can by analyzed by .summary()\n",
        "dummy_input = tf.zeros((1, CONFIG[\"SEQ_LENGTH\"]), dtype=tf.int64)\n",
        "model(dummy_input) \n",
        "\n",
        "model.summary()"
      ]
    },
    {
      "cell_type": "markdown",
      "metadata": {
        "id": "LJL0Q0YPY6Ee"
      },
      "source": [
        "## Train the model"
      ]
    },
    {
      "cell_type": "code",
      "execution_count": 45,
      "metadata": {
        "id": "ZOeWdgxNFDXq"
      },
      "outputs": [],
      "source": [
        "loss = tf.losses.SparseCategoricalCrossentropy(from_logits=True)"
      ]
    },
    {
      "cell_type": "code",
      "execution_count": 46,
      "metadata": {
        "id": "DDl1_Een6rL0"
      },
      "outputs": [],
      "source": [
        "model.compile(optimizer=CONFIG[\"OPTIMIZER\"], loss=loss)"
      ]
    },
    {
      "cell_type": "markdown",
      "metadata": {
        "id": "3Ky3F_BhgkTW"
      },
      "source": [
        "### Execute the training"
      ]
    },
    {
      "cell_type": "code",
      "execution_count": 47,
      "metadata": {},
      "outputs": [],
      "source": [
        "# Define a function to calculate perplexity\n",
        "def calculate_perplexity(model, dataset):\n",
        "    \"\"\"\n",
        "    Calculate perplexity on a dataset.\n",
        "    Perplexity = exp(average cross-entropy loss)\n",
        "    \"\"\"\n",
        "    total_loss = 0\n",
        "    total_samples = 0\n",
        "    \n",
        "    for input_batch, target_batch in dataset:\n",
        "        predictions = model(input_batch)\n",
        "        # Get batch_size and sequence_length\n",
        "        batch_size, sequence_length = target_batch.shape\n",
        "        \n",
        "        # Calculate loss for each prediction\n",
        "        batch_loss = loss(target_batch, predictions)\n",
        "        total_loss += batch_loss * batch_size\n",
        "        total_samples += batch_size\n",
        "        \n",
        "    # Calculate average loss\n",
        "    avg_loss = total_loss / total_samples\n",
        "    \n",
        "    # Perplexity is exp(average loss)\n",
        "    perplexity = tf.exp(avg_loss)\n",
        "    \n",
        "    return perplexity.numpy()"
      ]
    },
    {
      "cell_type": "code",
      "execution_count": 48,
      "metadata": {},
      "outputs": [],
      "source": [
        "class PerplexityCallback(tf.keras.callbacks.Callback):\n",
        "    def __init__(self, val_dataset):\n",
        "        super().__init__()\n",
        "        self.val_dataset = val_dataset\n",
        "        self.perplexity_history = []\n",
        "        \n",
        "    def on_epoch_end(self, epoch, logs=None):\n",
        "        perplexity = calculate_perplexity(self.model, self.val_dataset)\n",
        "        self.perplexity_history.append(perplexity)\n",
        "        logs['val_perplexity'] = perplexity\n",
        "        print(f\"\\nValidation Perplexity: {perplexity:.4f}\")\n",
        "\n",
        "# Create the callback\n",
        "perplexity_callback = PerplexityCallback(val_dataset)"
      ]
    },
    {
      "cell_type": "code",
      "execution_count": 49,
      "metadata": {},
      "outputs": [],
      "source": [
        "early_stopping = tf.keras.callbacks.EarlyStopping(\n",
        "    monitor=CONFIG[\"MONITOR_METRIC\"],\n",
        "    patience=CONFIG[\"EARLY_STOPPING_PATIENCE\"],\n",
        "    restore_best_weights=CONFIG[\"RESTORE_BEST_WEIGHTS\"]\n",
        ")"
      ]
    },
    {
      "cell_type": "code",
      "execution_count": 50,
      "metadata": {
        "id": "UK-hmKjYVoll"
      },
      "outputs": [
        {
          "name": "stdout",
          "output_type": "stream",
          "text": [
            "Epoch 1/10\n",
            "\u001b[1m18/18\u001b[0m \u001b[32m━━━━━━━━━━━━━━━━━━━━\u001b[0m\u001b[37m\u001b[0m \u001b[1m0s\u001b[0m 648ms/step - loss: 3.9237\n",
            "Validation Perplexity: 22.0321\n",
            "\u001b[1m18/18\u001b[0m \u001b[32m━━━━━━━━━━━━━━━━━━━━\u001b[0m\u001b[37m\u001b[0m \u001b[1m15s\u001b[0m 758ms/step - loss: 3.9069 - val_loss: 3.0925 - val_perplexity: 22.0321\n",
            "Epoch 2/10\n",
            "\u001b[1m18/18\u001b[0m \u001b[32m━━━━━━━━━━━━━━━━━━━━\u001b[0m\u001b[37m\u001b[0m \u001b[1m0s\u001b[0m 657ms/step - loss: 2.8008\n",
            "Validation Perplexity: 7.9874\n",
            "\u001b[1m18/18\u001b[0m \u001b[32m━━━━━━━━━━━━━━━━━━━━\u001b[0m\u001b[37m\u001b[0m \u001b[1m14s\u001b[0m 806ms/step - loss: 2.7888 - val_loss: 2.0779 - val_perplexity: 7.9874\n",
            "Epoch 3/10\n",
            "\u001b[1m18/18\u001b[0m \u001b[32m━━━━━━━━━━━━━━━━━━━━\u001b[0m\u001b[37m\u001b[0m \u001b[1m0s\u001b[0m 672ms/step - loss: 1.7504\n",
            "Validation Perplexity: 2.9578\n",
            "\u001b[1m18/18\u001b[0m \u001b[32m━━━━━━━━━━━━━━━━━━━━\u001b[0m\u001b[37m\u001b[0m \u001b[1m14s\u001b[0m 797ms/step - loss: 1.7373 - val_loss: 1.0845 - val_perplexity: 2.9578\n",
            "Epoch 4/10\n",
            "\u001b[1m18/18\u001b[0m \u001b[32m━━━━━━━━━━━━━━━━━━━━\u001b[0m\u001b[37m\u001b[0m \u001b[1m0s\u001b[0m 693ms/step - loss: 0.8543\n",
            "Validation Perplexity: 1.7198\n",
            "\u001b[1m18/18\u001b[0m \u001b[32m━━━━━━━━━━━━━━━━━━━━\u001b[0m\u001b[37m\u001b[0m \u001b[1m15s\u001b[0m 834ms/step - loss: 0.8471 - val_loss: 0.5422 - val_perplexity: 1.7198\n",
            "Epoch 5/10\n"
          ]
        },
        {
          "name": "stderr",
          "output_type": "stream",
          "text": [
            "2025-04-22 19:50:52.423135: I tensorflow/core/framework/local_rendezvous.cc:407] Local rendezvous is aborting with status: OUT_OF_RANGE: End of sequence\n"
          ]
        },
        {
          "name": "stdout",
          "output_type": "stream",
          "text": [
            "\u001b[1m18/18\u001b[0m \u001b[32m━━━━━━━━━━━━━━━━━━━━\u001b[0m\u001b[37m\u001b[0m \u001b[1m0s\u001b[0m 729ms/step - loss: 0.3877\n",
            "Validation Perplexity: 1.3438\n",
            "\u001b[1m18/18\u001b[0m \u001b[32m━━━━━━━━━━━━━━━━━━━━\u001b[0m\u001b[37m\u001b[0m \u001b[1m15s\u001b[0m 859ms/step - loss: 0.3851 - val_loss: 0.2955 - val_perplexity: 1.3438\n",
            "Epoch 6/10\n",
            "\u001b[1m18/18\u001b[0m \u001b[32m━━━━━━━━━━━━━━━━━━━━\u001b[0m\u001b[37m\u001b[0m \u001b[1m0s\u001b[0m 768ms/step - loss: 0.1989\n",
            "Validation Perplexity: 1.1972\n",
            "\u001b[1m18/18\u001b[0m \u001b[32m━━━━━━━━━━━━━━━━━━━━\u001b[0m\u001b[37m\u001b[0m \u001b[1m16s\u001b[0m 921ms/step - loss: 0.1978 - val_loss: 0.1800 - val_perplexity: 1.1972\n",
            "Epoch 7/10\n",
            "\u001b[1m18/18\u001b[0m \u001b[32m━━━━━━━━━━━━━━━━━━━━\u001b[0m\u001b[37m\u001b[0m \u001b[1m0s\u001b[0m 771ms/step - loss: 0.1162\n",
            "Validation Perplexity: 1.1287\n",
            "\u001b[1m18/18\u001b[0m \u001b[32m━━━━━━━━━━━━━━━━━━━━\u001b[0m\u001b[37m\u001b[0m \u001b[1m17s\u001b[0m 920ms/step - loss: 0.1156 - val_loss: 0.1210 - val_perplexity: 1.1287\n",
            "Epoch 8/10\n",
            "\u001b[1m18/18\u001b[0m \u001b[32m━━━━━━━━━━━━━━━━━━━━\u001b[0m\u001b[37m\u001b[0m \u001b[1m0s\u001b[0m 726ms/step - loss: 0.0765\n",
            "Validation Perplexity: 1.0933\n",
            "\u001b[1m18/18\u001b[0m \u001b[32m━━━━━━━━━━━━━━━━━━━━\u001b[0m\u001b[37m\u001b[0m \u001b[1m16s\u001b[0m 874ms/step - loss: 0.0763 - val_loss: 0.0892 - val_perplexity: 1.0933\n",
            "Epoch 9/10\n",
            "\u001b[1m18/18\u001b[0m \u001b[32m━━━━━━━━━━━━━━━━━━━━\u001b[0m\u001b[37m\u001b[0m \u001b[1m0s\u001b[0m 769ms/step - loss: 0.0575\n",
            "Validation Perplexity: 1.0747\n",
            "\u001b[1m18/18\u001b[0m \u001b[32m━━━━━━━━━━━━━━━━━━━━\u001b[0m\u001b[37m\u001b[0m \u001b[1m16s\u001b[0m 891ms/step - loss: 0.0574 - val_loss: 0.0721 - val_perplexity: 1.0747\n",
            "Epoch 10/10\n",
            "\u001b[1m18/18\u001b[0m \u001b[32m━━━━━━━━━━━━━━━━━━━━\u001b[0m\u001b[37m\u001b[0m \u001b[1m0s\u001b[0m 762ms/step - loss: 0.0471\n",
            "Validation Perplexity: 1.0623\n",
            "\u001b[1m18/18\u001b[0m \u001b[32m━━━━━━━━━━━━━━━━━━━━\u001b[0m\u001b[37m\u001b[0m \u001b[1m16s\u001b[0m 922ms/step - loss: 0.0471 - val_loss: 0.0604 - val_perplexity: 1.0623\n"
          ]
        }
      ],
      "source": [
        "history = model.fit(\n",
        "    train_dataset, \n",
        "    epochs=CONFIG[\"EPOCHS\"], \n",
        "    validation_data=val_dataset,\n",
        "    callbacks=[early_stopping, perplexity_callback],\n",
        ")"
      ]
    },
    {
      "cell_type": "code",
      "execution_count": 51,
      "metadata": {},
      "outputs": [
        {
          "name": "stdout",
          "output_type": "stream",
          "text": [
            "Evaluating on test set...\n",
            "\u001b[1m2/2\u001b[0m \u001b[32m━━━━━━━━━━━━━━━━━━━━\u001b[0m\u001b[37m\u001b[0m \u001b[1m1s\u001b[0m 313ms/step - loss: 0.0492\n",
            "Test loss: 0.04974830895662308\n"
          ]
        }
      ],
      "source": [
        "# Evaluate on test set\n",
        "print(\"Evaluating on test set...\")\n",
        "test_loss = model.evaluate(test_dataset)\n",
        "print(f\"Test loss: {test_loss}\")"
      ]
    },
    {
      "cell_type": "code",
      "execution_count": 52,
      "metadata": {},
      "outputs": [
        {
          "name": "stdout",
          "output_type": "stream",
          "text": [
            "Test Perplexity: 1.0510\n"
          ]
        }
      ],
      "source": [
        "# Calculate perplexity on test set\n",
        "test_perplexity = calculate_perplexity(model, test_dataset)\n",
        "print(f\"Test Perplexity: {test_perplexity:.4f}\")"
      ]
    },
    {
      "cell_type": "markdown",
      "metadata": {
        "id": "kKkD5M6eoSiN"
      },
      "source": [
        "## Generate text"
      ]
    },
    {
      "cell_type": "code",
      "execution_count": 53,
      "metadata": {
        "id": "iSBU1tHmlUSs"
      },
      "outputs": [],
      "source": [
        "class OneStep(tf.keras.Model):\n",
        "  def __init__(self, model, chars_from_ids, ids_from_chars, temperature=None):\n",
        "    super().__init__()\n",
        "    self.temperature = temperature if temperature is not None else CONFIG[\"TEMPERATURE\"]\n",
        "    self.model = model\n",
        "    self.chars_from_ids = chars_from_ids\n",
        "    self.ids_from_chars = ids_from_chars\n",
        "\n",
        "    # Create a mask to prevent \"[UNK]\" from being generated\n",
        "    skip_ids = self.ids_from_chars(['[UNK]'])[:, None]\n",
        "    sparse_mask = tf.SparseTensor(\n",
        "        values=[-float('inf')]*len(skip_ids),\n",
        "        indices=skip_ids,\n",
        "        dense_shape=[len(ids_from_chars.get_vocabulary())])\n",
        "    self.prediction_mask = tf.sparse.to_dense(sparse_mask)\n",
        "\n",
        "  @tf.function\n",
        "  def generate_one_step(self, inputs, states=None):\n",
        "    # Convert strings to token IDs\n",
        "    input_chars = tf.strings.unicode_split(inputs, 'UTF-8')\n",
        "    input_ids = self.ids_from_chars(input_chars).to_tensor()\n",
        "\n",
        "    # Run the model\n",
        "    predicted_logits, states = self.model(inputs=input_ids, states=states,\n",
        "                                      return_state=True)\n",
        "    # Only use the last prediction\n",
        "    predicted_logits = predicted_logits[:, -1, :]\n",
        "    predicted_logits = predicted_logits/self.temperature\n",
        "    # Apply the prediction mask\n",
        "    predicted_logits = predicted_logits + self.prediction_mask\n",
        "\n",
        "    # Sample the output logits to generate token IDs\n",
        "    predicted_ids = tf.random.categorical(predicted_logits, num_samples=1)\n",
        "    predicted_ids = tf.squeeze(predicted_ids, axis=-1)\n",
        "\n",
        "    # Convert from token ids to characters\n",
        "    predicted_chars = self.chars_from_ids(predicted_ids)\n",
        "\n",
        "    # Return the characters and model state\n",
        "    return predicted_chars, states"
      ]
    },
    {
      "cell_type": "code",
      "execution_count": 54,
      "metadata": {
        "id": "fqMOuDutnOxK"
      },
      "outputs": [],
      "source": [
        "one_step_model = OneStep(model, chars_from_ids, ids_from_chars)"
      ]
    },
    {
      "cell_type": "code",
      "execution_count": 55,
      "metadata": {
        "id": "ST7PSyk9t1mT"
      },
      "outputs": [
        {
          "name": "stdout",
          "output_type": "stream",
          "text": [
            "ROMEO.\n",
            "\n",
            "\n",
            "\n",
            "\n",
            "\n",
            "\n",
            "\n",
            "\n",
            "\n",
            "\n",
            "\n",
            "\n",
            "\n",
            "\n",
            "\n",
            "\n",
            "\n",
            "\n",
            "\n",
            "\n",
            "\n",
            "\n",
            "\n",
            "\n",
            "\n",
            "\n",
            "\n",
            "\n",
            "\n",
            "\n",
            "\n",
            "\n",
            "\n",
            "\n",
            "\n",
            "\n",
            "\n",
            "\n",
            "\n",
            "\n",
            "\n",
            "\n",
            "\n",
            "\n",
            "IIIIIIIIIIIIIIIIIIIIIIIIIIIIIIIIIIIIIIIIIIIIIIIIIIIIIIIIIIIIIIIIIIIIIIIIIIIIIIIIIIIIIIIIIIIIIIIIIIIIIIIIIIIIIIIIIIIIIIIIIIIIIIIIIIIIIIIIIIIIIIIIIIIIIIIIIIIIIIIIIIIIIIIIIIIIIIIIIIIIIIIIIIIIIIIIIIIIIIIIIIIIII.ITITTTTTTTTTTTTTTTTTTTTTTTTTTTTTTTTTTTTTTTTTTTTTTTTTTTTTTTTTTTTTTTTTTTTTTTTTTTTTTTTTTTTTTTTTTTTTTTTTTTTTTTTTTTTTTTTTTTTTTTTTTTTTTTTTTTTTTTTTTTTTTTTTTTTTTTTTTTTTTTTTTTTTTTTTTTTTTTTTTTTTTTTTTTTTTTTTTTTTTTTTTTTTTTTTTTTTTTTTTTTTTTTTTTTTTTTTTTTTTTTTTTTTTTTTTTTTTTTTTTTTTTTTTTTTTTTTTTTTTTTTTTTTTTTTTTTTTTTTTTTTTTTTTTTTTTTTTTTTTTTTTTTTTTTTTTTTTTTTTTTTTTTTTTTTTTTTTTTTTTTTTTTTTTTTTTTTTTTTTTTTTTTTTTTTTTTTTTTTTTTTTTTTTTTTTTTTTTTTTTTTTTTTTTTTTTTTTTTTTTTTTTTTTTTTTTTTTTTTTTTTTTTTTTTTTTTTTTTTTTTTTTTTTTTTTTTTTTTTTTTTTTTTTTTTTTTTTTTTTTTTTTTTTTTTTTTTTTTTTTTTTTTTTTTTTTTTTTTTTTTTTTTTTTTTTTTTTTTTTTTTTTTTTTTTTTTTTTTTTTTTTTTTTTTTTTTTTTTTTTTTTTTTTTTTTTTTTTTTTTTTTTTTTTTTTTTTTTTTTTTTTTTTTTTTTTTTTTTTTTTTTTTTTTTTTTTTTTTTTTTT \n",
            "\n",
            "________________________________________________________________________________\n",
            "\n",
            "Run time: 1.1906790733337402\n"
          ]
        }
      ],
      "source": [
        "start = time.time()\n",
        "states = None\n",
        "next_char = tf.constant(['ROMEO.'])\n",
        "result = [next_char]\n",
        "\n",
        "for n in range(CONFIG[\"GENERATION_LENGTH\"]):\n",
        "  next_char, states = one_step_model.generate_one_step(next_char, states=states)\n",
        "  result.append(next_char)\n",
        "\n",
        "result = tf.strings.join(result)\n",
        "end = time.time()\n",
        "print(result[0].numpy().decode('utf-8'), '\\n\\n' + '_'*80)\n",
        "print('\\nRun time:', end - start)"
      ]
    }
  ],
  "metadata": {
    "accelerator": "GPU",
    "colab": {
      "collapsed_sections": [],
      "name": "text_generation.ipynb",
      "toc_visible": true
    },
    "kernelspec": {
      "display_name": "cs681-3",
      "language": "python",
      "name": "python3"
    },
    "language_info": {
      "codemirror_mode": {
        "name": "ipython",
        "version": 3
      },
      "file_extension": ".py",
      "mimetype": "text/x-python",
      "name": "python",
      "nbconvert_exporter": "python",
      "pygments_lexer": "ipython3",
      "version": "3.11.5"
    }
  },
  "nbformat": 4,
  "nbformat_minor": 0
}
